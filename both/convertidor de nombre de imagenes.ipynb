{
 "cells": [
  {
   "cell_type": "code",
   "execution_count": 18,
   "metadata": {},
   "outputs": [],
   "source": [
    "from PIL import Image\n",
    "import os"
   ]
  },
  {
   "cell_type": "code",
   "execution_count": 19,
   "metadata": {},
   "outputs": [
    {
     "data": {
      "text/plain": [
       "233"
      ]
     },
     "execution_count": 19,
     "metadata": {},
     "output_type": "execute_result"
    }
   ],
   "source": [
    "import os\n",
    "my_file = 'cascos_real/'\n",
    "lista=os.listdir(my_file)\n",
    "len(lista)"
   ]
  },
  {
   "cell_type": "code",
   "execution_count": 20,
   "metadata": {},
   "outputs": [
    {
     "data": {
      "text/plain": [
       "'construction-workers-working-near-the-burj-dubai-in-dubai-BA3H6N.jpg'"
      ]
     },
     "execution_count": 20,
     "metadata": {},
     "output_type": "execute_result"
    }
   ],
   "source": [
    "lista[109]"
   ]
  },
  {
   "cell_type": "code",
   "execution_count": 21,
   "metadata": {
    "scrolled": true
   },
   "outputs": [
    {
     "name": "stdout",
     "output_type": "stream",
     "text": [
      "000253790W.jpg\n",
      "000426359W.jpg\n",
      "06nt12main_1533518947.jpg\n",
      "08330705.jpg\n",
      "09435898.jpg\n",
      "1 (1).jpg\n",
      "1.jpg\n",
      "101312231.jpg\n",
      "134700563.jpg\n",
      "134700932.jpg\n",
      "142782281.jpg\n",
      "1471529529_407860004.jpg\n",
      "152390-bechtel-gabon-construction-workers-2013.jpg\n",
      "15482775-auténticos-trabajadores-de-la-construcción-que-colaboran-en-la-instalación-de-marcos-de-encofrado-de-cemento.jpg\n",
      "1554726714.jpg\n",
      "15706406_303.jpg\n",
      "1587341596_536494_1587341788_noticia_normal.jpg\n",
      "1614912638195504700.jpg\n",
      "16eac4f7291e28938e92650ca2bd427a_XL.jpg\n",
      "19122369-binding-reinforcement-mesh-workers-at-a-construction-site-north-china.jpg\n",
      "19nyu1-jumbo-v2.jpg\n",
      "1e35.jpg\n",
      "1_16a0828c88c.1036603_4213969184_16a0828c88c_large.jpg\n",
      "1_16a082e4788.1834938_2844939665_16a082e4788_large.jpg\n",
      "1_16a0835c09e.1416767_1550270078_16a0835c09e_large.jpg\n",
      "1_16a083f280f.2097084_4144239283_16a083f280f_large.jpg\n",
      "1_wo1RxnlL7xwA-a3KSjMpEg.jpeg\n",
      "20130118.150931_st_construction.jpg\n",
      "2019-03-21_5c9328086157f_roco.jpg\n",
      "20200108222939_493819_20190704225904.jpg\n",
      "20552114-obreros-en-una-obra-del-proyecto-de-construcción.jpg\n",
      "212221_209598.jpg\n",
      "28bt03cc_1514444707.jpg\n",
      "3-960x720.jpeg\n",
      "31.9.jpg\n",
      "330363_img650x420_img650x420_crop.jpg\n",
      "37133048-dubai-20-de-septiembre-2014-un-grupo-de-trabajadores-de-la-construcción-smailing-durante-un-corto-breac.jpg\n",
      "4025_20170320100934.jpg\n",
      "42995198-trabajadores-físicos-que-trabajan-al-aire-libre-y-la-reparación-de-carreteras.jpg\n",
      "44977159-a-construction-workers-using-mobile-concrete-hacker-to-hack-concrete-pile-at-the-construction-site.jpg\n",
      "44977194-a-construction-worker-using-mobile-concrete-hacker-to-hack-concrete-pile-at-the-construction-site-.jpg\n",
      "45718063-trabajadores-de-la-construcción-y-su-trabajo-muy-duro.jpg\n",
      "47907303-johor-malaysia-september-25-2014-construction-workers-using-baby-roller-compactor-to-compact-soil-at.jpg\n",
      "47907306-johor-malaysia-september-25-2014-construction-workers-using-baby-roller-compactor-to-compact-soil-at.jpg\n",
      "47907307-johor-malaysia-september-25-2014-construction-workers-using-baby-roller-compactor-to-compact-soil-at.jpg\n",
      "48809907-selangor-malaysia-september-25-2015-construction-workers-using-baby-roller-compactor-to-compact-soil.jpg\n",
      "500_F_122526294_d3c4WXm0XDxpYp5Tp7Y5XcJqB0wRDopg.jpg\n",
      "500_F_123570508_TJD8LUtV8kx1lbakwxwh0vFHPLZAJVld.jpg\n",
      "500_F_180307514_GIn36ozB4ALuPdnHYEwWw5A4ZvaPq0Vw.jpg\n",
      "500_F_190726901_D0KiZqmO74kvgfncz3bqYCibclvHSqwV.jpg\n",
      "500_F_230448137_NoMBAJ6mVaPy7PGU1uPjpAyrjXIHgX4u.jpg\n",
      "50893559-selangor-malaysia-october-17-2015-group-of-construction-workers-fabricating-ground-beam-timber-form-.jpg\n",
      "51003117-construction-worker-using-mobile-concrete-hacker-to-hack-concrete-pile-at-the-construction-site.jpg\n",
      "53106164-young-construction-worker-working-hard-with-spade.jpg\n",
      "53106196-young-construction-workers-working-on-local-road.jpg\n",
      "53106785-photo-of-construction-workers-working-together-on-building-platform.jpg\n",
      "571d4dd1-d90c-4e9b-afc5-2af3caaf81ff.jpg.1280x1280_q80_upscale.jpg\n",
      "5ea71aec8729a.jpeg\n",
      "64351462-bucarest-rumania-22-de-febrero-2016-obreros-trabajan-en-la-obra-de-construcción-de-un-edificio-en-bucar.jpg\n",
      "64351463-bucarest-rumanía-9-de-febrero-de-2016-obreros-trabajan-en-la-obra-de-construcción-de-un-edificio-en-bucar.jpg\n",
      "64351468-bucarest-rumania-25-de-febrero-2016-obreros-trabajan-en-la-obra-de-construcción-de-un-edificio-en-bucar.jpg\n",
      "73955195.jpg\n",
      "75963340-selangor-malaysia-december-15-2016-construction-workers-install-precast-concrete-box-culvert-drain-a.jpg\n",
      "85450E1E-ED22-4710-B4E6-88370C6A0422.jpeg\n",
      "86600562-antwerp-belgium-july-9-construction-workers-pouring-concrete-for-the-fundation-of-the-new-antwerp-po.jpg\n",
      "89237199-construction-workers-working-at-the-construction-site-at-selangor-malaysia-during-daytime-they-are-w.jpg\n",
      "89237210-construction-workers-fabricating-timber-form-work-at-the-construction-site-in-johor-malaysia-the-for.jpg\n",
      "91571021-kuala-lumpur-malaysia-january-14-2017-construction-workers-plastering-building-wall-and-beam-using-c.jpg\n",
      "91571036-kuala-lumpur-malaysia-january-14-2017-construction-workers-plastering-building-wall-and-beam-using-c.jpg\n",
      "9bf8ed5c33225b24deb716885dac0343l.jpg\n",
      "a41f726b08411b35274006.jpg\n",
      "Actividad-de-construcción-en-Chile-suma-14-meses-de-caídas.jpg\n",
      "ADM_5209-1024x678.jpg\n",
      "AEGIS-cooling-vests-01062017.jpg\n",
      "africa-construction-challnegs.jpg\n",
      "albanil-e1430856387405.jpg\n",
      "AR-181239831.jpg&NCS_modified=20190101111856&exif=.jpg\n",
      "arequipa-municipalidad-Jerusalen-san-juan-de-dios-mas-obreros.jpeg\n",
      "asian-construction-workers-on-a-floating-platform-on-the-dubai-creek-in-dubai-united-arab-emirates-uae-RKHYF1.jpg\n",
      "asing.jpg_1519691648.jpg\n",
      "b44b6d3a-4632-4921-bd3a-96d97d944119.jpg\n",
      "bauarbeiter-haben-eine-pause-in-einer-baustelle-marina-district-dubai-vereinigte-arabische-emirate-df7xrj.jpg\n",
      "big_7v2nu8D7tUIlxgK5nxwiMNRxn.jpg\n",
      "Calidad-en-la-construcción.jpg\n",
      "china daily.jpg\n",
      "civil-contractors-500x500.jpg\n",
      "construccion-8.jpg\n",
      "CONSTRUCCION-CIVIL.jpg\n",
      "construccion-de-carretera-cerca-del-hito-de-dubai-el-bastidor-m4yea5.jpg\n",
      "construccion-foto-referencial-2019.jpg\n",
      "Construccion-Impacto_coronavirus-Seguridad-Obras-Empresas_482212123_150209953_1706x960.jpg\n",
      "construccion.jpeg\n",
      "construccion.jpg\n",
      "construccion1.jpg\n",
      "Construction-9-450x270.jpg\n",
      "construction-worker-workers-dubai-middle-east-uae-BE39NE (1).jpg\n",
      "construction-worker-workers-dubai-middle-east-uae-BE39NE.jpg\n",
      "construction-workers-crossing-a-road-near-the-dubai-mall-and-the-burj-CEJE43.jpg\n",
      "construction-workers-generic.jpg\n",
      "construction-workers-hacking-foundation-pile-selangor-malaysia-august-cutting-site-using-heavy-duty-mobile-68822797.jpg\n",
      "construction-workers-using-baby-roller-compactor-selangor-malaysia-â€-september-to-compact-soil-site-61385475.jpg\n",
      "construction-workers-using-concrete-hacker-construction-site-cyberjaya-malaysia-â€-march-to-cut-pile-58526951.jpg\n",
      "construction-workers-using-mobile-concrete-hacker-construction-site-cyberjaya-malaysia-â€-september-to-hack-pile-59135605.jpg\n",
      "construction-workers-using-mobile-concrete-hacker-construction-site-cyberjaya-malaysia-â€-september-to-hack-pile-59135942.jpg\n",
      "construction-workers-work-at-the-courtyard-of-the-burj-dubai-skyscraper-D4KA2E.jpg\n",
      "construction-workers-working-as-a-team-stock-image__we072220.jpg\n",
      "construction-workers-working-construction-site-johor-malaysia-march-group-johor-malaysia-daytime-68603345.jpg\n",
      "construction-workers-working-massive-site-kuala-lumpur-malaysia-july-wearing-proper-safety-gear-to-prevent-accident-156218074.jpg\n",
      "construction-workers-working-near-the-burj-dubai-in-dubai-BA1TD0.jpg\n",
      "construction-workers-working-near-the-burj-dubai-in-dubai-BA3H6N.jpg\n",
      "construction-workers.jpg\n",
      "Construction_1280x720.jpg\n",
      "coverConstruction of compost pits at Manjonjo household.jpeg\n",
      "d073fb287afb6b1311ec26eb6ab465a961697002.jpg\n",
      "depositphotos_103258708-stock-photo-a-group-of-construction-workers.jpg\n",
      "depositphotos_104368492-stock-photo-construction-workers-working-at-high.jpg\n",
      "depositphotos_129609474-stock-photo-a-group-of-construction-workers.jpg\n",
      "depositphotos_138451244-stock-photo-construction-workers-hacking-concrete-using.jpg\n",
      "depositphotos_138451270-stock-photo-construction-workers-hacking-concrete-using.jpg\n",
      "depositphotos_138451426-stock-photo-construction-workers-hacking-concrete-using.jpg\n",
      "depositphotos_156393284-stock-photo-malacca-malaysia-january-2017-drainage.jpg\n",
      "depositphotos_156393356-stock-photo-malacca-malaysia-january-2017-drainage.jpg\n",
      "depositphotos_156393394-stock-photo-malacca-malaysia-january-2017-drainage.jpg\n",
      "depositphotos_183641238-stock-photo-seremban-malaysia-january-2017-construction.jpg\n",
      "depositphotos_195533216-stock-photo-malacca-malaysia-january-2017-construction.jpg\n",
      "depositphotos_195533218-stock-photo-malacca-malaysia-january-2017-construction.jpg\n",
      "depositphotos_195533262-stock-photo-malacca-malaysia-january-2017-construction.jpg\n",
      "depositphotos_329135578-stock-photo-kuala-lumpur-malaysia-august-2017.jpg\n",
      "direccion-del-trabajo-suspende-obras-de-construccion-al-constatar-grave-riesgo-para-la-vida-y-salud-de-trabajadores-baf29ae762c297c344e58ef23c982a9f.jpg\n",
      "DSC_0143-3.jpg\n",
      "DSJH2D_WsAA29D8.jpg\n",
      "dubai-eae-construction-workermainly-from-india-and-pakistan-go-back-B87TTX.jpg\n",
      "dubai-emiratos-arabes-unidos-south-asian-immigrant-obreros-contratados-procedentes-de-bangladesh-india-y-pakistan-trabajan-en-la-construccion-de-burj-khalifa-o-burj-dubai-situado-en-la-calle-sheikh-za.jpg\n",
      "ein-bauarbeiter-dubai-vereinigte-arabische-emirate-gdkrrn.jpg\n",
      "el-cambio-climatico-podria-obligar-a-los-trabajadores-al-aire-libre-a-levantarse-mucho-antes---1_768.jpg\n",
      "employees-discussing-with-each-other.jpeg\n",
      "FOCUS-Shots-Dubai-1.jpg\n",
      "foreign-workers.jpg\n",
      "Foreign-Workers_20181025084311_theedgemarkets.jpg\n",
      "Gallery-Image-1-For-Web.jpg\n",
      "gh.jpg\n",
      "gulf-exploited-workers-dubai-united-arab-emirates-shutterstock-editorial-8595315a.jpg\n"
     ]
    },
    {
     "name": "stdout",
     "output_type": "stream",
     "text": [
      "gxohgkqwhdt1zxjwpabo.jpg\n",
      "How-to-Effectively-Run-Construction-Management-Projects-1.jpg\n",
      "Hyatt-9.jpg\n",
      "iBSQlYVU-1024x684.jpeg\n",
      "IDENTIFICACIÓN-DE-PERFILES-A-CERTIFICAR-EN-CONSTRUCCIÓN-MALL-DEL-PACIFICO-ZONA-4.jpg\n",
      "IMG_20180301_130111.jpg\n",
      "index-indenieria.jpg\n",
      "india-construction-building-580x358.jpeg\n",
      "Indian-construction-workers-at-a-site-in-Dubai-Marina_16aa795c1dc_original-ratio.jpg\n",
      "industrial-civil-construction-work-1726124.jpg\n",
      "Intrec-concrete-slab-poor-ground-photography_06.jpg\n",
      "istockphoto-959138292-1024x1024.jpg\n",
      "jpeg (1).jpg\n",
      "jpeg (2).jpg\n",
      "jpeg.jpg\n",
      "Kuwait-Migrants.png\n",
      "kuwait.jpg\n",
      "LLLL-1.jpg\n",
      "los-obreros-en-una-obra-en-construccion-en-hong-knog-china-p64n5h.jpg\n",
      "los-trabajadores-de-la-construccion-en-colas-para-llegar-en-autobus-a-cuartos-vivos-al-final-de-la-jornada-de-trabajo-en-dubai-emiratos-arabes-unidos-egraj5.jpg\n",
      "los-trabajadores-de-la-construccion-en-colas-para-llegar-en-autobus-a-cuartos-vivos-al-final-de-la-jornada-de-trabajo-en-dubai-emiratos-arabes-unidos-egraje.jpg\n",
      "los-trabajadores-de-la-construccion-en-colas-para-llegar-en-autobus-a-cuartos-vivos-al-final-de-la-jornada-de-trabajo-en-dubai-emiratos-arabes-unidos-egrak6.jpg\n",
      "maxresdefault (1).jpg\n",
      "maxresdefault.jpg\n",
      "Mejoras-en-la-construcción.jpg\n",
      "migrant-workers-from-south-asia-take-a-break-on-the-construction-site-CMNG9A.jpg\n",
      "migrant-workers-on-a-building-site-in-dubai-uae-B6BBGP.jpg\n",
      "migrant-workers-on-the-construction-site-of-the-marina-bay-sands-resort-D366FE.jpg\n",
      "migrantworkersqatarafp.jpg\n",
      "miguel-hidalgo.jpg\n",
      "mossel-bay-construction02large.jpg\n",
      "MRT-Corp-SSP-Line-February-Sungai-Besi-Air-Force-Base-Bandar-Malaysia-Utara-2-Large.jpg\n",
      "mtv-203211215.jpg\n",
      "mw1-780x445.jpg\n",
      "Nosotros.jpg\n",
      "obreros-asiaticos-en-el-sitio-en-la-inconclusa-incompleta-edificios-rascacielos-inmigrantes-extranjeros-los-trabajadores-del-proyecto-de-construccion-del-nuevo-edificio-de-dubai-eau-akm29m.jpg\n",
      "obreros-construccion.jpg\n",
      "obreros_en_dubai.jpg\n",
      "obreros_trabajadores_obra_dubai_wam.jpg\n",
      "OI8AC90-min-656x368.jpg\n",
      "P1040821.JPG\n",
      "pekerja_nyia.jpg\n",
      "people-working-at-construction-site-india-R6FN0B.jpg\n",
      "Pn3Oal8S-Plastering_720x1280.jpg\n",
      "Prevent-Over-Heating.jpg\n",
      "PROCESO_01.jpg\n",
      "Publicarán-nueva-plataforma-virtual-para-registro-de-obras-de-construccion-civil.jpg\n",
      "pwc-lanza-un-pasaporte-sanitario-digital-para-conocer-la-salud-de-los-trabajadores.jpg\n",
      "qatar-workers.jpg\n",
      "QualityControl-Safety-Construction-Sites_Skillnotch.jpg\n",
      "road-construction-near-accra-ghana-africa-E6MYEF.jpg\n",
      "Route-2020-construction-2-1-1000x600.jpg\n",
      "RS17813_Intersect_MCF_Tanzania_Uganda_2017_3387-scr-1.jpg\n",
      "safa.1.380248.jpg\n",
      "screen-shot-2017-08-23-at-3.54.09-pm.png\n",
      "selangor-malaysia-march-18-2017-construction-workers-install-precast-K5C51M.jpg\n",
      "senado_sanciona_ley_de_seguro_obligatorio_de_accidentes_para_trabajadores_de_construcciones-627x350.jpg\n",
      "shubham-verma-Tlyteh1470o-unsplash.jpg\n",
      "singapore-migrant-workers-dec-2013-shutterstock-editorial-7972391c.jpg\n",
      "south-africa-near-ladysmith-2009-construction-bramhoekingula-dam-pumped-DC1A20.jpg\n",
      "standard_127266975025404082920200310-22822-1n9r7j6.jpg\n",
      "stock-photo-kuala-lumpur-malaysia-may-construction-workers-working-at-the-construction-site-in-1306911088.jpg\n",
      "stock-photo-malacca-malaysia-march-construction-workers-at-the-construction-site-in-malaysia-all-405276061.jpg\n",
      "stock-photo-selangor-malaysia-november-construction-workers-using-baby-roller-compactor-to-compact-423592543.jpg\n",
      "stock-photo-serdang-malaysia-may-construction-workers-working-at-the-construction-site-at-serdang-428700358.jpg\n",
      "SULXSO5JENE7PCMX4FOFSUKULM.jpeg\n",
      "Trabajadores-Construccion-Tarapaca.jpg\n",
      "trabajadores-de-la-construccion-costa-rica.jpg\n",
      "trabajadores-en-qatar_1.jpg\n",
      "uae-constrution-workers.jpg\n",
      "une-quinzaine-d-ouvriers-du-btp-travaillant-sur-ce-vaste-chantier-ont-participe-a-l-action-photo-n-m-1428009994.jpg\n",
      "unj1.jpg\n",
      "unnamed (1).jpg\n",
      "unnamed (2).jpg\n",
      "unnamed (3).jpg\n",
      "unnamed (4).jpg\n",
      "unnamed (5).jpg\n",
      "unnamed (6).jpg\n",
      "unnamed (7).jpg\n",
      "unnamed (8).jpg\n",
      "unnamed (9).jpg\n",
      "unnamed.jpg\n",
      "W3INGXZBOREWFFIIPYVS74PNX4.jpg\n",
      "Wani-Foreign-workers-123RF-700x420.jpg\n",
      "Wo28-Qatar.jpg\n",
      "Worker-welfare_2.jpg\n",
      "workers-working-on-a-new-road-dubai-BB04TY.jpg\n",
      "Workers_laying_CC.jpg\n",
      "Worker_Foreign_20191009102031_theedgemarkets.jpg\n",
      "worldcupstad.jpg\n",
      "_f853390c-bd1d-11e7-922e-12a52d781256.jpg\n"
     ]
    }
   ],
   "source": [
    "for i in range(len(lista)):\n",
    "    print(lista[i])\n",
    "    image = Image.open(os.path.join(my_file +str(lista[i])))\n",
    "    #image = image.rotate(270)\n",
    "    image.save('cascos1/'+ 'image_' + str(i+1252)+'.jpg')"
   ]
  },
  {
   "cell_type": "code",
   "execution_count": 1,
   "metadata": {},
   "outputs": [],
   "source": [
    "import os\n",
    "os.environ[\"CUDA_DEVICE_ORDER\"]=\"PCI_BUS_ID\"\n",
    "os.environ[\"CUDA_VISIBLE_DEVICES\"]=\"0,3\""
   ]
  },
  {
   "cell_type": "code",
   "execution_count": 3,
   "metadata": {},
   "outputs": [
    {
     "name": "stderr",
     "output_type": "stream",
     "text": [
      "\"nvidia-smi\" no se reconoce como un comando interno o externo,\n",
      "programa o archivo por lotes ejecutable.\n"
     ]
    }
   ],
   "source": [
    "!nvidia-smi"
   ]
  },
  {
   "cell_type": "code",
   "execution_count": 4,
   "metadata": {
    "scrolled": true
   },
   "outputs": [
    {
     "name": "stderr",
     "output_type": "stream",
     "text": [
      "C:\\Users\\Inspira\\.conda\\envs\\keras_retinanet_gpu\\lib\\site-packages\\tensorflow\\python\\framework\\dtypes.py:516: FutureWarning: Passing (type, 1) or '1type' as a synonym of type is deprecated; in a future version of numpy, it will be understood as (type, (1,)) / '(1,)type'.\n",
      "  _np_qint8 = np.dtype([(\"qint8\", np.int8, 1)])\n",
      "C:\\Users\\Inspira\\.conda\\envs\\keras_retinanet_gpu\\lib\\site-packages\\tensorflow\\python\\framework\\dtypes.py:517: FutureWarning: Passing (type, 1) or '1type' as a synonym of type is deprecated; in a future version of numpy, it will be understood as (type, (1,)) / '(1,)type'.\n",
      "  _np_quint8 = np.dtype([(\"quint8\", np.uint8, 1)])\n",
      "C:\\Users\\Inspira\\.conda\\envs\\keras_retinanet_gpu\\lib\\site-packages\\tensorflow\\python\\framework\\dtypes.py:518: FutureWarning: Passing (type, 1) or '1type' as a synonym of type is deprecated; in a future version of numpy, it will be understood as (type, (1,)) / '(1,)type'.\n",
      "  _np_qint16 = np.dtype([(\"qint16\", np.int16, 1)])\n",
      "C:\\Users\\Inspira\\.conda\\envs\\keras_retinanet_gpu\\lib\\site-packages\\tensorflow\\python\\framework\\dtypes.py:519: FutureWarning: Passing (type, 1) or '1type' as a synonym of type is deprecated; in a future version of numpy, it will be understood as (type, (1,)) / '(1,)type'.\n",
      "  _np_quint16 = np.dtype([(\"quint16\", np.uint16, 1)])\n",
      "C:\\Users\\Inspira\\.conda\\envs\\keras_retinanet_gpu\\lib\\site-packages\\tensorflow\\python\\framework\\dtypes.py:520: FutureWarning: Passing (type, 1) or '1type' as a synonym of type is deprecated; in a future version of numpy, it will be understood as (type, (1,)) / '(1,)type'.\n",
      "  _np_qint32 = np.dtype([(\"qint32\", np.int32, 1)])\n",
      "C:\\Users\\Inspira\\.conda\\envs\\keras_retinanet_gpu\\lib\\site-packages\\tensorflow\\python\\framework\\dtypes.py:525: FutureWarning: Passing (type, 1) or '1type' as a synonym of type is deprecated; in a future version of numpy, it will be understood as (type, (1,)) / '(1,)type'.\n",
      "  np_resource = np.dtype([(\"resource\", np.ubyte, 1)])\n",
      "C:\\Users\\Inspira\\.conda\\envs\\keras_retinanet_gpu\\lib\\site-packages\\tensorboard\\compat\\tensorflow_stub\\dtypes.py:541: FutureWarning: Passing (type, 1) or '1type' as a synonym of type is deprecated; in a future version of numpy, it will be understood as (type, (1,)) / '(1,)type'.\n",
      "  _np_qint8 = np.dtype([(\"qint8\", np.int8, 1)])\n",
      "C:\\Users\\Inspira\\.conda\\envs\\keras_retinanet_gpu\\lib\\site-packages\\tensorboard\\compat\\tensorflow_stub\\dtypes.py:542: FutureWarning: Passing (type, 1) or '1type' as a synonym of type is deprecated; in a future version of numpy, it will be understood as (type, (1,)) / '(1,)type'.\n",
      "  _np_quint8 = np.dtype([(\"quint8\", np.uint8, 1)])\n",
      "C:\\Users\\Inspira\\.conda\\envs\\keras_retinanet_gpu\\lib\\site-packages\\tensorboard\\compat\\tensorflow_stub\\dtypes.py:543: FutureWarning: Passing (type, 1) or '1type' as a synonym of type is deprecated; in a future version of numpy, it will be understood as (type, (1,)) / '(1,)type'.\n",
      "  _np_qint16 = np.dtype([(\"qint16\", np.int16, 1)])\n",
      "C:\\Users\\Inspira\\.conda\\envs\\keras_retinanet_gpu\\lib\\site-packages\\tensorboard\\compat\\tensorflow_stub\\dtypes.py:544: FutureWarning: Passing (type, 1) or '1type' as a synonym of type is deprecated; in a future version of numpy, it will be understood as (type, (1,)) / '(1,)type'.\n",
      "  _np_quint16 = np.dtype([(\"quint16\", np.uint16, 1)])\n",
      "C:\\Users\\Inspira\\.conda\\envs\\keras_retinanet_gpu\\lib\\site-packages\\tensorboard\\compat\\tensorflow_stub\\dtypes.py:545: FutureWarning: Passing (type, 1) or '1type' as a synonym of type is deprecated; in a future version of numpy, it will be understood as (type, (1,)) / '(1,)type'.\n",
      "  _np_qint32 = np.dtype([(\"qint32\", np.int32, 1)])\n",
      "C:\\Users\\Inspira\\.conda\\envs\\keras_retinanet_gpu\\lib\\site-packages\\tensorboard\\compat\\tensorflow_stub\\dtypes.py:550: FutureWarning: Passing (type, 1) or '1type' as a synonym of type is deprecated; in a future version of numpy, it will be understood as (type, (1,)) / '(1,)type'.\n",
      "  np_resource = np.dtype([(\"resource\", np.ubyte, 1)])\n"
     ]
    }
   ],
   "source": [
    "import tensorflow as tf\n",
    "sess = tf.Session(config=tf.ConfigProto(log_device_placement=True))"
   ]
  },
  {
   "cell_type": "code",
   "execution_count": 11,
   "metadata": {},
   "outputs": [
    {
     "name": "stdout",
     "output_type": "stream",
     "text": [
      "Num GPUs Available:  1\n"
     ]
    }
   ],
   "source": [
    "import tensorflow as tf\n",
    "print(\"Num GPUs Available: \", len(tf.config.experimental.list_physical_devices('GPU')))"
   ]
  },
  {
   "cell_type": "code",
   "execution_count": null,
   "metadata": {},
   "outputs": [],
   "source": []
  }
 ],
 "metadata": {
  "kernelspec": {
   "display_name": "Python 3",
   "language": "python",
   "name": "python3"
  },
  "language_info": {
   "codemirror_mode": {
    "name": "ipython",
    "version": 3
   },
   "file_extension": ".py",
   "mimetype": "text/x-python",
   "name": "python",
   "nbconvert_exporter": "python",
   "pygments_lexer": "ipython3",
   "version": "3.6.8"
  }
 },
 "nbformat": 4,
 "nbformat_minor": 4
}
